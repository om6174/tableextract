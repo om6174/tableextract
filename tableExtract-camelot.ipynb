{
 "cells": [
  {
   "cell_type": "code",
   "execution_count": 1,
   "metadata": {},
   "outputs": [],
   "source": [
    "import camelot\n",
    "\n",
    "# PDF file to extract tables from\n",
    "file = \"D:\\Documents\\\\RC 2007-08 Sep-Oct.pdf\"\n"
   ]
  },
  {
   "cell_type": "code",
   "execution_count": 2,
   "metadata": {},
   "outputs": [],
   "source": [
    "# extract all the tables in the PDF file\n",
    "tables = camelot.read_pdf(file)"
   ]
  },
  {
   "cell_type": "code",
   "execution_count": 3,
   "metadata": {},
   "outputs": [
    {
     "name": "stdout",
     "output_type": "stream",
     "text": [
      "Total tables extracted: 2\n"
     ]
    }
   ],
   "source": [
    "# number of tables extracted\n",
    "print(\"Total tables extracted:\", tables.n)"
   ]
  },
  {
   "cell_type": "code",
   "execution_count": 4,
   "metadata": {},
   "outputs": [
    {
     "name": "stdout",
     "output_type": "stream",
     "text": [
      "                                                   0                     1  \\\n",
      "0                                            SUBJECT            DAY & DATE   \n",
      "1                              Applied Mathematics-I   TUESDAY\\n29/09/2020   \n",
      "2         Applied Science-\\nI (Physics &\\nChemistry)  THURSDAY\\n08/10/2020   \n",
      "3  &\\nBasic Civil Engineering\\nEngineering Mechanics   TUESDAY\\n13/10/2020   \n",
      "4                      Basic Electrical\\nEngineering    FRIDAY\\n16/10/2020   \n",
      "5                              Engineering\\nGraphics   TUESDAY\\n20/10/2020   \n",
      "6                              Communication\\nSkills    FRIDAY\\n23/10/2020   \n",
      "\n",
      "                                 2         3  \n",
      "0                          TIME\\nI  DURATION  \n",
      "1  10.00 a.m.\\nto\\n12.00 Jl>.m.\\nI   2 hours  \n",
      "2    \"\\n10.00 a.m.\\nto\\n12.00 p.m.   2 hours  \n",
      "3      10.00 a.m.\\nto\\n12.00 I .m.   2 hours  \n",
      "4       10.00 a.m.\\nto\\n12.00 n.m.   2 hours  \n",
      "5       10.00 a.m.\\nto\\n12.00 ~.m.   2 hours  \n",
      "6      10.00 a.m.\\nto\\n12.00 I=.m.   2 hours  \n"
     ]
    }
   ],
   "source": [
    "# print the first table as Pandas DataFrame\n",
    "print(tables[0].df)"
   ]
  },
  {
   "cell_type": "code",
   "execution_count": null,
   "metadata": {},
   "outputs": [],
   "source": []
  }
 ],
 "metadata": {
  "kernelspec": {
   "display_name": "Python 3",
   "language": "python",
   "name": "python3"
  },
  "language_info": {
   "codemirror_mode": {
    "name": "ipython",
    "version": 3
   },
   "file_extension": ".py",
   "mimetype": "text/x-python",
   "name": "python",
   "nbconvert_exporter": "python",
   "pygments_lexer": "ipython3",
   "version": "3.8.3"
  }
 },
 "nbformat": 4,
 "nbformat_minor": 4
}
